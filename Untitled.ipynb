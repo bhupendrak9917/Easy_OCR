{
 "cells": [
  {
   "cell_type": "code",
   "execution_count": 1,
   "id": "c89887a6",
   "metadata": {},
   "outputs": [],
   "source": [
    "import cv2\n",
    "import numpy as np"
   ]
  },
  {
   "cell_type": "code",
   "execution_count": 2,
   "id": "921e78a0",
   "metadata": {},
   "outputs": [
    {
     "data": {
      "text/plain": [
       "-1"
      ]
     },
     "execution_count": 2,
     "metadata": {},
     "output_type": "execute_result"
    }
   ],
   "source": [
    "img = cv2.imread(\"positions.png\")\n",
    "cv2.imshow(\"Image\", img)\n",
    "cv2.waitKey(0)"
   ]
  },
  {
   "cell_type": "code",
   "execution_count": 3,
   "id": "329ff4d1",
   "metadata": {},
   "outputs": [
    {
     "data": {
      "text/plain": [
       "(84, 291, 3)"
      ]
     },
     "execution_count": 3,
     "metadata": {},
     "output_type": "execute_result"
    }
   ],
   "source": [
    "img.shape"
   ]
  },
  {
   "cell_type": "code",
   "execution_count": 4,
   "id": "bb18c84e",
   "metadata": {},
   "outputs": [],
   "source": [
    "r1 = 0\n",
    "r2 = 16\n",
    "c1 = 0\n",
    "c2 = 285\n",
    "crop1=[]\n",
    "for i in range(5):\n",
    "    crop = img[r1:r2 , c1:c2]\n",
    "    crop1.append(crop)\n",
    "    r1 = r1 + 16\n",
    "    r2 = r2 + 16"
   ]
  },
  {
   "cell_type": "code",
   "execution_count": 6,
   "id": "10fd9dcc",
   "metadata": {},
   "outputs": [],
   "source": [
    "for i in range(5):\n",
    "    cv2.imshow(f\"Cropped Image {i}\", crop1[i])\n",
    "    cv2.imwrite(f\"Image{i}.png\",crop1[i])\n",
    "    cv2.waitKey(0)"
   ]
  },
  {
   "cell_type": "code",
   "execution_count": 5,
   "id": "00b84760",
   "metadata": {},
   "outputs": [
    {
     "name": "stdout",
     "output_type": "stream",
     "text": [
      "Position (8305,173, 4933,286, 193,734.\n",
      "\f",
      "\n"
     ]
    }
   ],
   "source": [
    "import pytesseract\n",
    "img1 = cv2.imread(\"Image0.png\")\n",
    "img1 = cv2.cvtColor(img1, cv2.COLOR_BGR2GRAY)\n",
    "cv2.imshow(\"Image 1\", img1)\n",
    "cv2.waitKey(0)\n",
    "print(pytesseract.image_to_string(img1))"
   ]
  },
  {
   "cell_type": "code",
   "execution_count": 6,
   "id": "292bebf7",
   "metadata": {},
   "outputs": [
    {
     "name": "stdout",
     "output_type": "stream",
     "text": [
      " \n",
      "\f",
      "\n"
     ]
    }
   ],
   "source": [
    "import pytesseract\n",
    "img2 = cv2.imread(\"Image1.png\")\n",
    "img2 = cv2.cvtColor(img2, cv2.COLOR_BGR2GRAY)\n",
    "cv2.imshow(\"Gray\", img2)\n",
    "cv2.waitKey(0)\n",
    "print(pytesseract.image_to_string(img2))"
   ]
  },
  {
   "cell_type": "code",
   "execution_count": 7,
   "id": "d86fe0f6",
   "metadata": {},
   "outputs": [
    {
     "name": "stdout",
     "output_type": "stream",
     "text": [
      "Position [8345.646, 4870.666, 183,369]\n",
      "\f",
      "\n"
     ]
    }
   ],
   "source": [
    "img3 = cv2.imread(\"Image2.png\")\n",
    "img3 = cv2.cvtColor(img3, cv2.COLOR_BGR2GRAY)\n",
    "cv2.imshow(\"Image\",img3)\n",
    "cv2.waitKey(0)\n",
    "print(pytesseract.image_to_string(img3))"
   ]
  },
  {
   "cell_type": "code",
   "execution_count": 8,
   "id": "81f86769",
   "metadata": {},
   "outputs": [
    {
     "name": "stdout",
     "output_type": "stream",
     "text": [
      " \n",
      "\f",
      "\n"
     ]
    }
   ],
   "source": [
    "img4 = cv2.imread(\"Image3.png\")\n",
    "img4 = cv2.cvtColor(img4, cv2.COLOR_BGR2GRAY)\n",
    "cv2.imshow(\"Image\",img4)\n",
    "cv2.waitKey(0)\n",
    "print(pytesseract.image_to_string(img4))"
   ]
  },
  {
   "cell_type": "code",
   "execution_count": 12,
   "id": "77d63fd6",
   "metadata": {},
   "outputs": [
    {
     "name": "stdout",
     "output_type": "stream",
     "text": [
      "POST L0G 18665.930, 4200. 18/131 .56\n",
      "\n",
      " \n",
      "\f",
      "\n"
     ]
    }
   ],
   "source": [
    "img5 = cv2.imread(\"Image4.png\")\n",
    "img5 = cv2.cvtColor(img5, cv2.COLOR_BGR2GRAY)\n",
    "cv2.imshow(\"Image\",img5)\n",
    "cv2.waitKey(0)\n",
    "print(pytesseract.image_to_string(img5))"
   ]
  },
  {
   "cell_type": "code",
   "execution_count": 2,
   "id": "8658b4db",
   "metadata": {},
   "outputs": [
    {
     "name": "stdout",
     "output_type": "stream",
     "text": [
      " \n",
      "\f",
      "\n"
     ]
    }
   ],
   "source": [
    "import numpy as np\n",
    "image = cv2.imread(\"Image3.png\")\n",
    "r = 150.0 / image.shape[1]\n",
    "dim = (150, int(image.shape[0] * r))\n",
    "resized = cv2.resize(image, dim, interpolation=cv2.INTER_AREA)\n",
    "lower_white = np.array([220, 220, 220], dtype=np.uint8)\n",
    "upper_white = np.array([255, 255, 255], dtype=np.uint8)\n",
    "mask = cv2.inRange(resized, lower_white, upper_white) # could also use threshold\n",
    "res = cv2.bitwise_not(resized, resized, mask)\n",
    "cv2.imshow('res', res) # gives black background\n",
    "cv2.waitKey(0)\n",
    "print(pytesseract.image_to_string(res))"
   ]
  },
  {
   "cell_type": "code",
   "execution_count": 1,
   "id": "b62760c6",
   "metadata": {},
   "outputs": [
    {
     "ename": "AttributeError",
     "evalue": "module 'cv2.cv2' has no attribute 'COLOR_BGR2'",
     "output_type": "error",
     "traceback": [
      "\u001b[1;31m---------------------------------------------------------------------------\u001b[0m",
      "\u001b[1;31mAttributeError\u001b[0m                            Traceback (most recent call last)",
      "\u001b[1;32m<ipython-input-1-88f129d99072>\u001b[0m in \u001b[0;36m<module>\u001b[1;34m\u001b[0m\n\u001b[0;32m      4\u001b[0m \u001b[1;33m\u001b[0m\u001b[0m\n\u001b[0;32m      5\u001b[0m \u001b[0mimge1\u001b[0m \u001b[1;33m=\u001b[0m \u001b[0mcv2\u001b[0m\u001b[1;33m.\u001b[0m\u001b[0mimread\u001b[0m\u001b[1;33m(\u001b[0m\u001b[1;34m'Image1.png'\u001b[0m\u001b[1;33m)\u001b[0m\u001b[1;33m\u001b[0m\u001b[1;33m\u001b[0m\u001b[0m\n\u001b[1;32m----> 6\u001b[1;33m \u001b[0mimge1\u001b[0m \u001b[1;33m=\u001b[0m \u001b[0mcv2\u001b[0m\u001b[1;33m.\u001b[0m\u001b[0mcvtColor\u001b[0m\u001b[1;33m(\u001b[0m\u001b[0mimge1\u001b[0m\u001b[1;33m,\u001b[0m \u001b[0mcv2\u001b[0m\u001b[1;33m.\u001b[0m\u001b[0mCOLOR_BGR2\u001b[0m\u001b[1;33m)\u001b[0m\u001b[1;33m\u001b[0m\u001b[1;33m\u001b[0m\u001b[0m\n\u001b[0m\u001b[0;32m      7\u001b[0m \u001b[0mcv2\u001b[0m\u001b[1;33m.\u001b[0m\u001b[0mimshow\u001b[0m\u001b[1;33m(\u001b[0m\u001b[1;34m\"Image1\"\u001b[0m\u001b[1;33m,\u001b[0m \u001b[0mimge1\u001b[0m\u001b[1;33m)\u001b[0m\u001b[1;33m\u001b[0m\u001b[1;33m\u001b[0m\u001b[0m\n\u001b[0;32m      8\u001b[0m \u001b[0mcv2\u001b[0m\u001b[1;33m.\u001b[0m\u001b[0mwaitKey\u001b[0m\u001b[1;33m(\u001b[0m\u001b[1;33m)\u001b[0m\u001b[1;33m\u001b[0m\u001b[1;33m\u001b[0m\u001b[0m\n",
      "\u001b[1;31mAttributeError\u001b[0m: module 'cv2.cv2' has no attribute 'COLOR_BGR2'"
     ]
    }
   ],
   "source": [
    "import cv2\n",
    "import matplotlib.pyplot as plt\n",
    "import pytesseract\n",
    "\n",
    "imge1 = cv2.imread('Image1.png')\n",
    "imge1 = cv2.cvtColor(imge1, cv2.COLOR_BGR2GRAY)\n",
    "cv2.imshow(\"Image1\", imge1)\n",
    "cv2.waitKey()\n",
    "print(pytesseract.image_to_string(imge1))"
   ]
  },
  {
   "cell_type": "code",
   "execution_count": null,
   "id": "e05e191a",
   "metadata": {},
   "outputs": [],
   "source": []
  }
 ],
 "metadata": {
  "kernelspec": {
   "display_name": "Python 3",
   "language": "python",
   "name": "python3"
  },
  "language_info": {
   "codemirror_mode": {
    "name": "ipython",
    "version": 3
   },
   "file_extension": ".py",
   "mimetype": "text/x-python",
   "name": "python",
   "nbconvert_exporter": "python",
   "pygments_lexer": "ipython3",
   "version": "3.9.3"
  }
 },
 "nbformat": 4,
 "nbformat_minor": 5
}
